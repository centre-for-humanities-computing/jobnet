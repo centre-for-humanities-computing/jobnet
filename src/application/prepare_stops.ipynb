{
 "cells": [
  {
   "cell_type": "code",
   "execution_count": 15,
   "metadata": {},
   "outputs": [],
   "source": [
    "import spacy\n",
    "\n",
    "from preprocessing import substitute_letter"
   ]
  },
  {
   "cell_type": "code",
   "execution_count": 16,
   "metadata": {},
   "outputs": [],
   "source": [
    "da_stops = open(\"../stops/da_stop_words.txt\", \"r\")\n",
    "da_stops = da_stops.read().split()\n",
    "\n",
    "en_stops = open(\"../stops/en_stop_words.txt\", \"r\")\n",
    "en_stops = en_stops.read().split()\n"
   ]
  },
  {
   "cell_type": "code",
   "execution_count": 17,
   "metadata": {},
   "outputs": [],
   "source": [
    "nlp = spacy.load(\"en_core_web_lg\")"
   ]
  },
  {
   "cell_type": "code",
   "execution_count": 18,
   "metadata": {},
   "outputs": [
    {
     "name": "stdout",
     "output_type": "stream",
     "text": [
      "['i', 'i', 'my', 'myself', 'we', 'our', 'our', 'ourselves', 'you', 'your', 'your', 'yourself', 'yourself', 'he', 'he', 'his', 'himself', 'she', 'she', 'hers', 'herself', 'f.ex', 'it', 'its', 'itself', 'they', 'they', 'their', 'theirs', 'themselves', 'what', 'whatever', 'which', 'who', 'whom', 'this', 'that', 'that', \"'ll\", 'that', 's', 'that', 'be', 'that', \"'ve\", 'these', 'those', 'be', 'be', 'be', 'be', 'wasn', 'be', 'not', 'be', 'weren', 'be', 'not', 'be', 'not', 'we', 'would', 'we', \"'ll\", 'we', \"'ve\", 'well', 'be', 'be', 'be', 'have', 'have', 'have', 'have', 'do', 'do', 'do', 'do', 'a', 'an', 'the', 'and', 'but', 'if', 'or', 'because', 'as', 'until', 'while', 'of', 'at', 'by', 'for', 'with', 'about', 'against', 'between', 'into', 'through', 'during', 'before', 'after', 'above', 'below', 'to', 'from', 'up', 'down', 'in', 'out', 'on', 'off', 'over', 'under', 'again', 'far', 'then', 'once', 'here', 'there', 'thence', 'when', 'where', 'why', 'how', 'all', 'any', 'both', 'each', 'few', 'more', 'most', 'other', 'some', 'such', 'no', 'nor', 'not', 'only', 'own', 'same', 'so', 'than', 'too', 'very', 's', 't', 'can', 'will', 'just', 'don', 'should', 'shouldn', 'should', \"'ve\", 'should', 'not', 'now', 'ever', 'even', 'able', 'actually', 'accordingly', 'across', 'afterwards', 'almost', 'alone', 'along', 'already', 'also', 'although', 'always', 'among', 'amongst', 'amoungst', 'another', 'anybody', 'anyhow', 'anymore', 'anyone', 'anything', 'anyway', 'anyways', 'anywhere', 'apart', 'apparently', 'approximately', 'around', 'aside', 'away', 'beforehand', 'behind', 'beside', 'besides', 'beyond', 'certainly', 'consequently', 'currently', 'either', 'else', 'elsewhere', 'every', 'everyone', 'everything', 'everywhere', 'exactly', 'except', 'furthermore', 'hence', 'hereafter', 'hereby', 'herein', 'heres', 'here', 'be', 'hereupon', 'however', 'how', 'be', 'immediately', 'indeed', 'mainly', 'maybe', 'may', 'meantime', 'meanwhile', 'might', 'mightn', 'might', 'not', 'moreover', 'mostly', 'must', 'mustn', 'must', 'not', 'near', 'nearly', 'neither', 'never', 'nevertheless', 'nobody', 'non', 'none', 'nonetheless', 'nor', 'nowhere', 'og', 'oh', 'oi', 'oj', 'ah', 'ok', 'okay', 'ol', 'om', 'oo', 'op', 'oq', 'or', 'ord', 'os', 'ot', 'overall', 'per', 'perhaps', 'please', 'possible', 'probably', 'rather', 'shall', 'somebody', 'somehow', 'someone', 'something', 'sometime', 'sometimes', 'somewhat', 'somewhere', 'still', 'thereafter', 'thereby', 'there', 'd', 'therefore', 'therein', 'there', \"'ll\", 'thereof', 'there', 're', 'there', 's', 'there', 'be', 'thereto', 'thereupon', 'there', \"'ve\", 'they', 'd', 'they', 'would', 'they', \"'ll\", 'they', 're', 'they', 'be', 'they', \"'ve\", 'thorough', 'though', 'throughout', 'thus', 'toward', 'towards', 'unless', 'unlike', 'unlikely', 'upon', 'usually', 'via', 've', 'whence', 'whenever', 'when', 'be', 'where', 'whereafter', 'whereas', 'whereby', 'wherein', 'where', 's', 'where', 'be', 'whereupon', 'wherever', 'whether', 'whoever', 'who', \"'ll\", 'whom', 'whomever', 'who', 's', 'who', 'be', 'whose', 'why', 'be', 'within', 'without', 'will', 'nt', 'will', 'not', 'would', 'wouldn', 'would', 'nt', 'would', 'not', 'yet', 'yes', 'td', 'tr', 're', 'h', 'll']\n"
     ]
    }
   ],
   "source": [
    "en_lemmas = []\n",
    "\n",
    "for stop in en_stops:\n",
    "    doc = nlp(stop)\n",
    "    for token in doc:\n",
    "        en_lemmas.append(token.lemma_.lower())    "
   ]
  },
  {
   "cell_type": "code",
   "execution_count": 20,
   "metadata": {},
   "outputs": [],
   "source": [
    "f = open('../stops/en_stops_lemmas.txt', \"w\")\n",
    "\n",
    "for lemma in set(en_lemmas):\n",
    "    f.write(lemma)\n",
    "    f.write('\\n')\n",
    "f.close()"
   ]
  },
  {
   "cell_type": "code",
   "execution_count": 21,
   "metadata": {},
   "outputs": [],
   "source": [
    "nlp = spacy.load(\"da_core_news_lg\")"
   ]
  },
  {
   "cell_type": "code",
   "execution_count": 22,
   "metadata": {},
   "outputs": [],
   "source": [
    "da_lemmas = []\n",
    "\n",
    "for stop in da_stops:\n",
    "    doc = nlp(stop)\n",
    "    for token in doc:\n",
    "        da_lemmas.append(token.lemma_.lower())    "
   ]
  },
  {
   "cell_type": "code",
   "execution_count": 24,
   "metadata": {},
   "outputs": [],
   "source": [
    "da_lemmas = [substitute_letter(post) for post in da_lemmas]"
   ]
  },
  {
   "cell_type": "code",
   "execution_count": 25,
   "metadata": {},
   "outputs": [],
   "source": [
    "f = open('../stops/da_stops_lemmas.txt', \"w\")\n",
    "\n",
    "for lemma in set(da_lemmas):\n",
    "    f.write(lemma)\n",
    "    f.write('\\n')\n",
    "f.close()"
   ]
  }
 ],
 "metadata": {
  "interpreter": {
   "hash": "d6805e15886aab53026236d0c7a2691c0f3a4936a9fa243a37c54dfd5efd3ad7"
  },
  "kernelspec": {
   "display_name": "Python 3.8.10 ('myproject-o7xzvy_i')",
   "language": "python",
   "name": "python3"
  },
  "language_info": {
   "codemirror_mode": {
    "name": "ipython",
    "version": 3
   },
   "file_extension": ".py",
   "mimetype": "text/x-python",
   "name": "python",
   "nbconvert_exporter": "python",
   "pygments_lexer": "ipython3",
   "version": "3.8.10"
  },
  "orig_nbformat": 4
 },
 "nbformat": 4,
 "nbformat_minor": 2
}
