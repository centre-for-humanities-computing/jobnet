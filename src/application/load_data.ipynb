{
 "cells": [
  {
   "cell_type": "code",
   "execution_count": 2,
   "metadata": {},
   "outputs": [
    {
     "name": "stderr",
     "output_type": "stream",
     "text": [
      "[nltk_data] Downloading package punkt to /home/kate/nltk_data...\n",
      "[nltk_data]   Package punkt is already up-to-date!\n"
     ]
    }
   ],
   "source": [
    "import sys\n",
    "sys.path.append(\"../data\")\n",
    "sys.path.append(\"../jobnet\")\n",
    "import json\n",
    "import spacy\n",
    "from preprocessing import substitute_letter, clean_text, remove_html_commands, collect_lemmas, rm_stops\n",
    "from polyglot.detect import Detector\n",
    "from load import get_files"
   ]
  },
  {
   "cell_type": "code",
   "execution_count": 2,
   "metadata": {},
   "outputs": [],
   "source": [
    "path = '../data/jobnet-sample/'\n",
    "files_paths = get_files(path)"
   ]
  },
  {
   "cell_type": "code",
   "execution_count": 3,
   "metadata": {},
   "outputs": [
    {
     "name": "stdout",
     "output_type": "stream",
     "text": [
      "440\n"
     ]
    }
   ],
   "source": [
    "descriptions = []\n",
    "\n",
    "for file in files_paths:\n",
    "    with open(file, encoding=\"utf-8\") as f:\n",
    "        data = json.load(f)\n",
    "        descriptions.append(data['FormattedPurpose'])\n",
    "\n",
    "print(len(descriptions))"
   ]
  },
  {
   "cell_type": "code",
   "execution_count": 4,
   "metadata": {},
   "outputs": [
    {
     "name": "stdout",
     "output_type": "stream",
     "text": [
      "440\n"
     ]
    }
   ],
   "source": [
    "cleaned_posts = [remove_html_commands(post) for post in descriptions]\n",
    "print(len(cleaned_posts))"
   ]
  },
  {
   "cell_type": "code",
   "execution_count": 5,
   "metadata": {},
   "outputs": [
    {
     "name": "stdout",
     "output_type": "stream",
     "text": [
      "440\n",
      "Om jobbetPaedagog/paedagogmedhjaelper og stoette-paedagog til SFO og skole -Vil du arbejde i en DGI-certificeret SFO og vaere skolepaedagog i klasser med smaa klassekvotienter? Synes du ogsaa, det er fantastisk at vaere aktiv sammen med boernene? Kunne du samtidig taenke dig at vaere del af en engageret personalegruppe, der har samme passion for det paedagogiske arbejde i fritidsordninger som dig selv? Goer det heller ikke noget, at du faar egen mentor? Saadan en faar du nemlig ogsaa i SFO Firkloeveren ved Firhoejskolen. Betyder det derudover noget for dig, at du kan arbejde med boernene i attraktive omgivelser inde i selvstaendig SFO I, II og hal samt suveraene udefaciliteter? Har du erfaring og interesse paa andre omraader, kan det ogsaa komme i spil og blive en del af din arbejdsdag. Eller er det bedste, du ved at vaere stoettepaedagog for et enkelt barn paa mellemtrinnet? Saa synes vi, at du skal laese videre nu. Din nye SFO Din nye arbejdsplads er Firhoejskolen med 170 elever eller SFO Firkloeveren, Firhoejskolen i Kalundborg Kommune. Der er tilmeldt 72 i SFO I og 28 i SFO II. Vi ligger i Foellenslev, som ligger i et naturskoent omraade mellem Holbaek og Kalundborg, og vores skoenne udefaciliteter indbyder baade til udeskole og leg. Vi bygger vores indsats paa fire staerke vaerdier: Anerkendelse, Faellesskab, Trivsel og Laering. Det er ikke bare flotte ord paa en vaegplakat. Det er et omdrejningspunkt for vores paedagogik og noget, vi hele tiden arbejder paa, bliver en endnu stoerre del af vores hverdag. Vi er en meget velintegreret del i lokalsamfundet, og det ses blandt andet i vores brede og staerke samarbejde med de lokale klubber, foreninger og oevrige fritidstilbud. Laes mere paa https://firhoejskolen.aula.dk/Vejen til din trivsel, arbejdsglaede og fortsatte udviklingPaa Firhoejskolen og i SFO Firkloeveren tror vi fuldt og fast paa, at dialog, naervaer og godt kollegaskab skaber baade arbejdsglaede, trivsel og dermed ogsaa bedre boernemiljoeer. Du kan derfor se frem til at vaere del et mindre team, hvor du og dine kolleger baade har stor frihed og er meget taet paa ledelsen, som er baade synlig og praksisnaer. Vi har generelt et rigtig godt samarbejde mellem skole og SFO. Ligeledes et fungerende skole-/hjemsamarbejde med tydelige forventninger til hinanden, og vi har derfor ogsaa en aktiv foraeldrekreds og bestyrelse.\n",
      "Hvis du vil vide mereHvis du vil vide mereHar du spoergsmaal er du meget velkommen til at ringe til vores SFO-leder, Jimmy H. Diwas paa 2036 2508 eller Nete Maegaard paa 2136 7153. Fanger du os ikke, saa ring gerne til skolens kontor paa 5953 5175. Stillingerne er paa 20-25 timer og efter gaeldende overenskomst.Tiltraedelse 1. august 2022. AnsoegningAnsoegning og samtalerVi skal have din ansoegning senest 25. maj 2022Vi forventer at afholde samtaler 31. maj 2022 fra kl. 8.30 - 13.00 Vi glaeder os til at hoere fra dig.Om osKalundborg Kommune oensker en mangfoldig sammensaetning af medarbejdere og opfordrer derfor alle uanset koen og etnisk baggrund til at soege. I Kalundborg kommune kraeves der i forbindelse med ansaettelse paa skoler baade straffeattest og boerneattest.\n"
     ]
    }
   ],
   "source": [
    "cleaned_posts = [substitute_letter(post) for post in cleaned_posts]\n",
    "print(len(cleaned_posts))\n",
    "print(cleaned_posts[1])"
   ]
  },
  {
   "cell_type": "code",
   "execution_count": 7,
   "metadata": {},
   "outputs": [
    {
     "name": "stdout",
     "output_type": "stream",
     "text": [
      "440\n"
     ]
    }
   ],
   "source": [
    "cleaned_posts = [clean_text(post) for post in cleaned_posts]\n",
    "print(len(cleaned_posts))"
   ]
  },
  {
   "cell_type": "code",
   "execution_count": 8,
   "metadata": {},
   "outputs": [],
   "source": [
    "cleaned_posts = [post for post in cleaned_posts if post!='']"
   ]
  },
  {
   "cell_type": "code",
   "execution_count": 9,
   "metadata": {},
   "outputs": [
    {
     "name": "stderr",
     "output_type": "stream",
     "text": [
      "Detector is not able to detect the language reliably.\n"
     ]
    }
   ],
   "source": [
    "da_posts = []\n",
    "en_posts = []\n",
    "other = []\n",
    "\n",
    "for post in cleaned_posts:\n",
    "    detector = Detector(post)\n",
    "    if detector.language.code == 'da':\n",
    "        da_posts.append(post)\n",
    "    elif detector.language.code == 'en':\n",
    "        en_posts.append(post)\n",
    "    else:\n",
    "        other.append(post)"
   ]
  },
  {
   "cell_type": "code",
   "execution_count": 10,
   "metadata": {},
   "outputs": [
    {
     "name": "stdout",
     "output_type": "stream",
     "text": [
      "421\n",
      "17\n",
      "1\n"
     ]
    }
   ],
   "source": [
    "print(len(da_posts))\n",
    "print(len(en_posts))\n",
    "print(len(other))"
   ]
  },
  {
   "cell_type": "code",
   "execution_count": 11,
   "metadata": {},
   "outputs": [
    {
     "name": "stdout",
     "output_type": "stream",
     "text": [
      "[['job', 'nr', 'unisport', 'have', 'travl', 'og', 'vi', 'soeger', 'derfor', 'medarbejder', 'til', 'deres', 'lage', 'i', 'albertslund', 'ville', 'du', 'mede', 'paa', 'daghold', 'saa', 'have', 'vi', 'en', 'spaendende', 'mulighed', 'til', 'du', 'job', 'unisport', 'have', 'travl', 'og', 'vi', 'være', 'derfor', 'paa', 'udkig', 'efter', 'flere', 'friske', 'medarbejder', 'til', 'at', 'plukke', 'og', 'pakke', 'webshopordrer', 'paa', 'lager', 'der', 'bestille', 'af', 'forbruger', 'fra', 'hele', 'skandinavien', 'ligeledes', 'ville', 'der', 'vaere', 'mulighed', 'for', 'at', 'varetage', 'anden', 'smaaopgaver', 'loebende', 'du', 'ville', 'blive', 'en', 'vigtig', 'spille', 'paa', 'hold', 'hvor', 'du', 'faar', 'indflydelse', 'paa', 'at', 'en', 'masse', 'kunde', 'faar', 'en', 'god', 'oplevelse', 'der', 'ville', 'i', 'forbindelse', 'mede', 'opstart', 'vaere', 'en', 'grundig', 'introduktion', 'til', 'arbejdsopgave', 'du', 'skulle', 'trives', 'mede', 'selvstaendigt', 'arbejde', 'og', 'unisport', 'være', 'en', 'arbejdsplads', 'mede', 'hoejt', 'til', 'loft', 'vi', 'tilbyde', 'du', 'at', 'du', 'blive', 'en', 'del', 'af', 'ung', 'og', 'frisk', 'team', 'at', 'du', 'faar', 'en', 'masse', 'gratis', 'motion', 'i', 'loebet', 'af', 'dag', 'at', 'du', 'faar', 'massere', 'af', 'ansvar', 'din', 'profil', 'hos', 'unisport', 'ville', 'vi', 'gerne', 'hav', 'medarbejder', 'som', 'kunne', 'arbejde', 'fokusere', 'være', 'selvstaendige', 'og', 'dedikere', 'det', 'være', 'ikke', 'en', 'krav', 'at', 'hav', 'lagererfaring', 'men', 'det', 'være', 'en', 'fordel', 'vigtig', 'være', 'det', 'at', 'du', 'trives', 'mede', 'at', 'arbejde', 'effektiv', 'og', 'kunne', 'navigere', 'i', 'nogen', 'travl', 'arbejdsdag', 'hvor', 'din', 'energi', 'og', 'gaa', 'paa', 'mod', 'skinne', 'igennem', 'vi', 'tilbyde', 'du', 'en', 'god', 'arbejdsplads', 'som', 'være', 'professionel', 'motivere', 'uhoejtidelig', 'være', 'praeget', 'af', 'samhoerighed', 'og', 'en', 'sund', 'vinderkultur', 'vi', 'forvente', 'at', 'du', 'kunne', 'arbejde', 'fuldtid', 'arbejdstid', 'og', 'lo', 'opstart', 'hurtig', 'mulig', 'arbejdstid', 'kl', 'i', 'hverdag', 'samt', 'soendag', 'fra', 'lo', 'kr', 'i', 'time', 'frivalgstillaeg', 'paa', 'samt', 'aftentillaeg', 'paa', 'kr', 'i', 'time', 'og', 'soendagstillaeg', 'paa', 'kr', 'i', 'time', 'vi', 'glaeder', 'vi', 'til', 'at', 'hoere', 'fra', 'du'], ['om', 'jobbetpaedagog', 'paedagogmedhjaelper', 'og', 'stoette', 'paedagog', 'til', 'sfo', 'og', 'skole', 'ville', 'du', 'arbejde', 'i', 'en', 'dgi', 'certificere', 'sfo', 'og', 'vaere', 'skolepaedagog', 'i', 'klasse', 'mede', 'smaa', 'klassekvotient', 'syne', 'du', 'ogsaa', 'det', 'være', 'fantastisk', 'at', 'vaere', 'aktiv', 'sammen', 'mede', 'boernene', 'kunne', 'du', 'samtidig', 'taenke', 'du', 'at', 'vaere', 'del', 'af', 'en', 'engagere', 'personalegruppe', 'der', 'have', 'samme', 'passion', 'for', 'det', 'paedagogiske', 'arbejde', 'i', 'fritidsordning', 'som', 'du', 'selv', 'goer', 'det', 'heller', 'ikke', 'nogen', 'at', 'du', 'faar', 'eg', 'mentor', 'saadan', 'en', 'faar', 'du', 'nemlig', 'ogsaa', 'i', 'sfo', 'firkloeveren', 'vide', 'firhoejskolen', 'betyde', 'det', 'derudover', 'nogen', 'for', 'du', 'at', 'du', 'kunne', 'arbejde', 'mede', 'boernene', 'i', 'attraktiv', 'omgivelser', 'inde', 'i', 'selvstaendig', 'sfo', 'i', 'ii', 'og', 'hal', 'samt', 'suveraene', 'udefaciliteter', 'have', 'du', 'erfaring', 'og', 'interesse', 'paa', 'anden', 'omraader', 'kunne', 'det', 'ogsaa', 'komme', 'i', 'spil', 'og', 'blive', 'en', 'del', 'af', 'din', 'arbejdsdag', 'eller', 'være', 'det', 'god', 'du', 'vide', 'at', 'vaere', 'stoettepaedagog', 'for', 'en', 'enkelt', 'barn', 'paa', 'mellemtrin', 'saa', 'syne', 'vi', 'at', 'du', 'skulle', 'laese', 'videre', 'nu', 'din', 'ny', 'sfo', 'din', 'ny', 'arbejdsplads', 'være', 'firhoejskolen', 'mede', 'elev', 'eller', 'sfo', 'firkloeveren', 'firhoejskolen', 'i', 'kalundborg', 'kommune', 'der', 'være', 'tilmelde', 'i', 'sfo', 'i', 'og', 'i', 'sfo', 'ii', 'vi', 'ligge', 'i', 'foellenslev', 'som', 'ligge', 'i', 'en', 'naturskoent', 'omraade', 'mellem', 'holbaek', 'og', 'kalundborg', 'og', 'vores', 'skoenne', 'udefaciliteter', 'indbyde', 'baade', 'til', 'udeskole', 'og', 'leg', 'vi', 'bygge', 'vores', 'indsats', 'paa', 'fire', 'staerke', 'vaerdier', 'anerkendelse', 'faellesskab', 'trivsel', 'og', 'laering', 'det', 'være', 'ikke', 'bare', 'flotte', 'ord', 'paa', 'en', 'vaegplakat', 'det', 'være', 'en', 'omdrejningspunkt', 'for', 'vores', 'paedagogik', 'og', 'nogen', 'vi', 'hele', 'tid', 'arbejde', 'paa', 'blive', 'en', 'endnu', 'stoerre', 'del', 'af', 'vores', 'hverdag', 'vi', 'være', 'en', 'megen', 'velintegreret', 'del', 'i', 'lokalsamfund', 'og', 'det', 'se', 'blandt', 'anden', 'i', 'vores', 'brede', 'og', 'staerke', 'samarbejde', 'mede', 'de', 'lokale', 'klub', 'forening', 'og', 'oevrige', 'fritidstilbud', 'laes', 'mere', 'paa', 'til', 'din', 'trivsel', 'arbejdsglaede', 'og', 'fortsætte', 'udviklingpaa', 'firhoejskolen', 'og', 'i', 'sfo', 'firkloeveren', 'tro', 'vi', 'fuld', 'og', 'faste', 'paa', 'at', 'dialog', 'naervaer', 'og', 'godte', 'kollegaskab', 'skabe', 'baade', 'arbejdsglaede', 'trivsel', 'og', 'dermed', 'ogsaa', 'god', 'boernemiljoeer', 'du', 'kunne', 'derfor', 'se', 'fremme', 'til', 'at', 'vaere', 'del', 'en', 'lille', 'team', 'hvor', 'du', 'og', 'din', 'kolleger', 'baade', 'have', 'stor', 'frihed', 'og', 'være', 'megen', 'taet', 'paa', 'ledelse', 'som', 'være', 'baade', 'synlig', 'og', 'praksisnaer', 'vi', 'have', 'generel', 'en', 'rigtig', 'godte', 'samarbejde', 'mellem', 'skole', 'og', 'sfo', 'ligeledes', 'en', 'fungere', 'skole', 'hjemsamarbejde', 'mede', 'tydelig', 'forventning', 'til', 'hinanden', 'og', 'vi', 'have', 'derfor', 'ogsaa', 'en', 'aktiv', 'foraeldrekreds', 'og', 'bestyrelse', 'hvis', 'du', 'ville', 'vide', 'merehvis', 'du', 'ville', 'vide', 'merehar', 'du', 'spoergsmaal', 'være', 'du', 'megen', 'velkommen', 'til', 'at', 'ring', 'til', 'vores', 'sfo', 'led', 'jimmy', 'h', 'diwas', 'paa', 'eller', 'nete', 'maegaard', 'paa', 'fange', 'du', 'vi', 'ikke', 'saa', 'ring', 'gerne', 'til', 'skole', 'kontor', 'paa', 'stilling', 'være', 'paa', 'time', 'og', 'efter', 'gaeldende', 'overenskomst', 'tiltraedelse', 'august', 'ansoegningansoegning', 'og', 'samtalervi', 'skulle', 'hav', 'din', 'ansoegning', 'sen', 'maj', 'vi', 'forvente', 'at', 'afholde', 'samtale', 'maj', 'fra', 'kl', 'vi', 'glaeder', 'vi', 'til', 'at', 'hoere', 'fra', 'du', 'om', 'oskalundborg', 'kommune', 'oensker', 'en', 'mangfoldig', 'sammensaetning', 'af', 'medarbejder', 'og', 'opfordre', 'derfor', 'alle', 'uanset', 'ko', 'og', 'etnisk', 'baggrund', 'til', 'at', 'soege', 'i', 'kalundborg', 'kommune', 'kraeves', 'der', 'i', 'forbindelse', 'mede', 'ansaettelse', 'paa', 'skole', 'baade', 'straffeattest', 'og', 'boerneattest']]\n"
     ]
    }
   ],
   "source": [
    "nlp  = spacy.load(\"da_core_news_lg\")\n",
    "\n",
    "da_lemmas = [collect_lemmas(post, nlp) for post in da_posts]\n",
    "print(da_lemmas[:2])"
   ]
  },
  {
   "cell_type": "code",
   "execution_count": 12,
   "metadata": {},
   "outputs": [
    {
     "name": "stdout",
     "output_type": "stream",
     "text": [
      "[['danpo', 'a', 's', 'in', 'give', 'be', 'currently', 'hire', 'for', 'a', 'production', 'operative', 'to', 'join', 'their', 'busy', 'team', 'on', 'a', 'full', 'time', 'on', 'go', 'basis', 'work', 'rotating', 'shift', 'what', 's', 'on', 'offer', 'hour', 'of', 'work', 'monday', 'to', 'friday', 'or', 'saturday', 'dayshift', 'and', 'late', 'evening', 'shift', 'immediate', 'start', 'what', 'will', 'you', 'be', 'do', 'as', 'a', 'production', 'operative', 'work', 'on', 'a', 'busy', 'production', 'line', 'operate', 'machinery', 'quality', 'control', 'move', 'good', 'safely', 'around', 'the', 'factory', 'ready', 'for', 'dispatch', 'general', 'tidy', 'up', 'and', 'any', 'other', 'ad', 'hoc', 'duty', 'as', 'and', 'when', 'require', 'what', 'do', 'you', 'need', 'previous', 'experience', 'in', 'a', 'production', 'environment', 'would', 'be', 'prefer', 'but', 'not', 'essential', 'as', 'full', 'training', 'will', 'be', 'provide', 'punctuality', 'and', 'reliability', 'be', 'essential', 'access', 'to', 'your', 'own', 'transport', 'would', 'be', 'beneficial', 'but', 'not', 'essential', 'if', 'you', 'have', 'any', 'question', 'about', 'the', 'role', 'please', 'contact', 'our', 'recruiter', 'claus', 'm', 'at', 'can', 'dk', 'we', 'look', 'forward', 'to', 'hear', 'from', 'you', 'be', 'aware', 'that', 'you', 'need', 'to', 'create', 'account', 'online', 'you', 'be', 'welcome', 'for', 'apply', 'by', 'use', 'link', 'below', 'medarbejderne', 'vikar', 'og', 'rekruttering', 'be', 'a', 'specialist', 'recruitment', 'consultancy', 'with', 'more', 'than', 'year', 'of', 'experience', 'deliver', 'staffing', 'solution', 'we', 'treat', 'each', 'application', 'with', 'a', 'high', 'degree', 'of', 'care', 'however', 'due', 'to', 'the', 'high', 'volume', 'of', 'application', 'be', 'sometimes', 'unable', 'to', 'contact', 'all', 'individual', 'if', 'you', 'do', 'not', 'hear', 'from', 'we', 'within', 'day', 'of', 'submit', 'your', 'application', 'please', 'call', 'we', 'for', 'a', 'status', 'be', 'you', 'interested', 'in', 'plenty', 'attractive', 'job', 'offer', 'if', 'you', 'be', 'then', 'do', 'not', 'hesitate', 'already', 'now', 'create', 'an', 'account', 'by', 'medarbejderne', 'aps'], ['we', 'be', 'look', 'for', 'two', 'highly', 'motivate', 'open', 'minded', 'and', 'dynamic', 'researcher', 'for', 'a', 'year', 'phd', 'fellowship', 'and', 'or', 'a', 'year', 'fix', 'term', 'postdoc', 'assistant', 'professor', 'to', 'commence', 'on', 'september', 'or', 'as', 'soon', 'as', 'possible', 'thereafter', 'you', 'will', 'be', 'part', 'of', 'an', 'interdisciplinary', 'research', 'group', 'in', 'complexity', 'and', 'big', 'datum', 'epidemiology', 'which', 'aim', 'at', 'understanding', 'and', 'act', 'upon', 'complex', 'public', 'health', 'issue', 'by', 'explore', 'large', 'national', 'and', 'international', 'dataset', 'include', 'nationwide', 'register', 'our', 'research', 'we', 'offer', 'a', 'creative', 'and', 'stimulate', 'working', 'environment', 'in', 'an', 'international', 'and', 'interdisciplinary', 'research', 'group', 'health', 'be', 'a', 'complex', 'phenomenon', 'and', 'we', 'study', 'the', 'social', 'environmental', 'and', 'biological', 'factor', 'determine', 'health', 'and', 'disease', 'we', 'also', 'aim', 'to', 'elucidate', 'the', 'underlying', 'biological', 'and', 'social', 'mechanism', 'that', 'might', 'explain', 'these', 'effect', 'to', 'embrace', 'complexity', 'in', 'health', 'we', 'actively', 'explore', 'new', 'source', 'e', 'g', 'smartphone', 'of', 'big', 'datum', 'incorporate', 'complexity', 'theory', 'and', 'system', 'method', 'leverage', 'insight', 'across', 'discipline', 'and', 'explore', 'the', 'opportunity', 'in', 'citizen', 'science', 'aim', 'at', 'a', 'direct', 'societal', 'engagement', 'and', 'impact', 'your', 'job', 'you', 'will', 'be', 'involve', 'in', 'one', 'or', 'more', 'large', 'epidemiological', 'research', 'project', 'one', 'of', 'these', 'be', 'a', 'large', 'scale', 'registry', 'base', 'study', 'on', 'health', 'trajectory', 'childhood', 'adversity', 'and', 'labor', 'market', 'marginalization', 'with', 'specific', 'focus', 'on', 'the', 'transition', 'from', 'childhood', 'to', 'early', 'adulthood', 'it', 'will', 'also', 'cover', 'intergenerational', 'health', 'effect', 'and', 'later', 'life', 'health', 'outcome', 'base', 'on', 'datum', 'from', 'the', 'globally', 'unique', 'danlife', 'cohort', 'another', 'project', 'involve', 'multi', 'level', 'analysis', 'of', 'the', 'complex', 'interaction', 'between', 'chronic', 'disease', 'and', 'labor', 'market', 'attachment', 'in', 'the', 'large', 'longitudinal', 'well', 'be', 'in', 'hospital', 'employee', 'study', 'the', 'project', 'will', 'aim', 'at', 'integrate', 'new', 'method', 'from', 'precision', 'medicine', 'and', 'complexity', 'science', 'to', 'investigate', 'the', 'complex', 'interplay', 'between', 'social', 'environmental', 'and', 'health', 'factor', 'apply', 'these', 'method', 'will', 'allow', 'we', 'to', 'look', 'at', 'dynamic', 'interaction', 'between', 'several', 'of', 'these', 'dimension', 'simultaneously', 'the', 'work', 'task', 'include', 'datum', 'management', 'of', 'large', 'study', 'statistical', 'analysis', 'of', 'large', 'complex', 'data', 'material', 'write', 'scientific', 'paper', 'teaching', 'and', 'outreach', 'please', 'visit', 'the', 'complexity', 'and', 'big', 'datum', 'epidemiology', 'website', 'for', 'more', 'detail', 'on', 'our', 'work', 'the', 'work', 'task', 'associate', 'with', 'the', 'different', 'position', 'differ', 'to', 'some', 'extent', 'and', 'they', 'key', 'task', 'for', 'each', 'position', 'be', 'outline', 'below', 'your', 'key', 'task', 'as', 'a', 'phd', 'student', 'carry', 'through', 'an', 'independent', 'research', 'project', 'under', 'supervision', 'complete', 'phd', 'course', 'or', 'other', 'equivalent', 'education', 'correspond', 'to', 'approximately', 'ect', 'point', 'participate', 'in', 'active', 'research', 'environment', 'include', 'a', 'stay', 'at', 'another', 'research', 'team', 'obtain', 'experience', 'with', 'teaching', 'or', 'other', 'type', 'of', 'dissemination', 'relate', 'to', 'your', 'phd', 'project', 'teach', 'and', 'disseminate', 'your', 'knowledge', 'write', 'a', 'phd', 'thesis', 'on', 'the', 'ground', 'of', 'your', 'project', 'your', 'key', 'task', 'as', 'postdoc', 'assistant', 'professor', 'statistical', 'analysis', 'of', 'large', 'complex', 'datum', 'material', 'research', 'include', 'publication', 'academic', 'dissemination', 'duty', 'research', 'base', 'teaching', 'share', 'knowledge', 'with', 'society', 'participation', 'in', 'formal', 'pedagogical', 'training', 'program', 'only', 'assistant', 'professor', 'profile', 'we', 'be', 'look', 'for', 'open', 'minded', 'creative', 'and', 'enthusiastic', 'scientist', 'with', 'the', 'follow', 'competency', 'and', 'experience', 'you', 'have', 'a', 'master', 'degree', 'or', 'phd', 'degree', 'if', 'you', 'apply', 'for', 'the', 'postdoc', 'assistant', 'professorship', 'in', 'epidemiology', 'datum', 'science', 'complexity', 'science', 'computational', 'method', 'medicine', 'social', 'science', 'or', 'relate', 'science', 'you', 'be', 'highly', 'experienced', 'in', 'work', 'with', 'large', 'and', 'complex', 'dataset', 'preferable', 'also', 'register', 'base', 'study', 'you', 'have', 'an', 'active', 'interest', 'in', 'public', 'health', 'and', 'epidemiology', 'preferable', 'also', 'complexity', 'science', 'proficient', 'communication', 'skill', 'and', 'ability', 'to', 'work', 'in', 'team', 'excellent', 'english', 'skill', 'write', 'and', 'speak', 'if', 'you', 'be', 'apply', 'for', 'an', 'assistant', 'professor', 'position', 'please', 'be', 'aware', 'of', 'the', 'six', 'overall', 'criterion', 'apply', 'for', 'assistant', 'professor', 'appointment', 'at', 'the', 'university', 'of', 'copenhagen', 'the', 'six', 'criterion', 'research', 'teach', 'societal', 'impact', 'organisational', 'contribution', 'external', 'funding', 'and', 'leadership', 'be', 'consider', 'a', 'framework', 'for', 'the', 'overall', 'assessment', 'of', 'candidate', 'find', 'information', 'about', 'each', 'criterion', 'here', 'place', 'of', 'employment', 'the', 'place', 'of', 'employment', 'be', 'at', 'section', 'of', 'epidemiology', 'department', 'of', 'public', 'health', 'university', 'of', 'copenhagen', 'information', 'on', 'the', 'section', 'of', 'epidemiology', 'can', 'be', 'find', 'at', 'term', 'of', 'employment', 'the', 'employment', 'as', 'postdoc', 'assistant', 'professor', 'be', 'a', 'full', 'time', 'and', 'fix', 'term', 'position', 'for', 'year', 'start', 'date', 'be', 'september', 'or', 'as', 'soon', 'as', 'possible', 'thereafter', 'salary', 'pension', 'and', 'other', 'condition', 'of', 'employment', 'be', 'set', 'in', 'accordance', 'with', 'the', 'agreement', 'between', 'the', 'ministry', 'of', 'finance', 'and', 'ac', 'danish', 'confederation', 'of', 'professional', 'association', 'currently', 'the', 'monthly', 'salary', 'start', 'at', 'dkk', 'approx', 'eur', 'april', 'level', 'depend', 'on', 'qualification', 'a', 'supplement', 'may', 'be', 'negotiate', 'the', 'employer', 'will', 'pay', 'an', 'additional', 'to', 'your', 'pension', 'fund', 'non', 'danish', 'and', 'danish', 'applicant', 'may', 'be', 'eligible', 'for', 'tax', 'reduction', 'if', 'they', 'hold', 'a', 'phd', 'degree', 'and', 'have', 'not', 'live', 'in', 'denmark', 'the', 'last', 'year', 'the', 'position', 'be', 'cover', 'by', 'the', 'job', 'structure', 'for', 'academic', 'staff', 'at', 'university', 'the', 'employment', 'as', 'a', 'phd', 'student', 'be', 'full', 'time', 'and', 'fix', 'term', 'position', 'for', 'year', 'the', 'employment', 'be', 'condition', 'upon', 'the', 'applicant', 's', 'success', 'ful', 'enrolment', 'as', 'a', 'phd', 'student', 'at', 'the', 'graduate', 'school', 'at', 'the', 'faculty', 'of', 'health', 'and', 'medical', 'sciences', 'university', 'of', 'copenhagen', 'this', 'require', 'submission', 'and', 'acceptance', 'of', 'an', 'application', 'for', 'the', 'specific', 'project', 'formulate', 'by', 'the', 'applicant', 'the', 'phd', 'study', 'must', 'be', 'complete', 'in', 'accordance', 'with', 'the', 'ministerial', 'order', 'on', 'the', 'phd', 'programme', 'and', 'the', 'faculty', 's', 'rule', 'on', 'achieve', 'the', 'degree', 'general', 'information', 'about', 'phd', 'study', 'at', 'the', 'faculty', 'of', 'health', 'and', 'medical', 'science', 'be', 'available', 'at', 'the', 'graduate', 'school', 's', 'website', 'salary', 'pension', 'and', 'term', 'of', 'employment', 'be', 'in', 'accordance', 'with', 'the', 'agree', 'ment', 'between', 'the', 'ministry', 'of', 'finance', 'and', 'the', 'danish', 'confederation', 'of', 'professional', 'association', 'on', 'academic', 'in', 'the', 'state', 'depend', 'on', 'seniority', 'the', 'monthly', 'salary', 'start', 'at', 'approximately', 'dkk', 'roughly', 'eur', 'april', 'level', 'plus', 'pension', 'question', 'for', 'further', 'information', 'please', 'contact', 'head', 'of', 'section', 'professor', 'naja', 'hulvej', 'rod', 'nahuro', 'ku', 'dk', 'foreign', 'applicant', 'may', 'find', 'this', 'link', 'useful', 'www', 'ism', 'ku', 'dk', 'international', 'staff', 'mobility', 'application', 'procedure', 'your', 'online', 'application', 'must', 'be', 'submit', 'in', 'english', 'by', 'click', 'apply', 'now', 'below', 'furthermore', 'your', 'application', 'must', 'include', 'the', 'follow', 'document', 'attachment', 'all', 'in', 'pdf', 'format', 'motivate', 'letter', 'of', 'application', 'max', 'two', 'page', 'please', 'clearly', 'indicate', 'what', 'position', 'you', 'be', 'apply', 'for', 'phd', 'fellow', 'postdoc', 'assistant', 'professor', 'cv', 'incl', 'education', 'work', 'research', 'experience', 'language', 'skill', 'and', 'other', 'skill', 'relevant', 'for', 'the', 'position', 'a', 'certify', 'sign', 'copy', 'of', 'a', 'phd', 'certificate', 'for', 'postdoc', 'assistant', 'professor', 'and', 'or', 'b', 'master', 'of', 'science', 'certificate', 'if', 'you', 'apply', 'for', 'a', 'postdoc', 'position', 'and', 'the', 'phd', 'be', 'not', 'yet', 'complete', 'a', 'write', 'statement', 'from', 'the', 'supervisor', 'will', 'do', 'for', 'the', 'phd', 'position', 'certify', 'copy', 'of', 'original', 'master', 'of', 'science', 'diploma', 'and', 'transcript', 'of', 'record', 'in', 'the', 'original', 'language', 'include', 'an', 'authorize', 'english', 'translation', 'if', 'issue', 'in', 'other', 'language', 'than', 'english', 'or', 'danish', 'if', 'not', 'complete', 'a', 'certify', 'sign', 'copy', 'of', 'a', 'recent', 'transcript', 'of', 'record', 'or', 'a', 'write', 'statement', 'from', 'the', 'institution', 'or', 'supervisor', 'be', 'accept', 'as', 'a', 'prerequisite', 'for', 'a', 'phd', 'fellowship', 'employment', 'your', 'master', 's', 'degree', 'must', 'be', 'equivalent', 'to', 'a', 'danish', 'master', 's', 'degree', 'we', 'encourage', 'you', 'to', 'read', 'more', 'in', 'the', 'assessment', 'database', 'please', 'note', 'that', 'we', 'might', 'ask', 'you', 'to', 'obtain', 'an', 'assessment', 'of', 'your', 'education', 'perform', 'by', 'the', 'ministry', 'of', 'high', 'education', 'and', 'science', 'list', 'of', 'publication', 'application', 'deadline', 'june', 'pm', 'cet', 'we', 'reserve', 'the', 'right', 'not', 'to', 'consider', 'material', 'receive', 'after', 'the', 'deadline', 'and', 'not', 'to', 'consider', 'application', 'that', 'do', 'not', 'live', 'up', 'to', 'the', 'abovementioned', 'requirement', 'the', 'further', 'process', 'after', 'the', 'expiry', 'of', 'the', 'deadline', 'for', 'application', 'the', 'authorized', 'recruitment', 'manager', 'select', 'applicant', 'for', 'assessment', 'on', 'the', 'advice', 'of', 'the', 'hire', 'committee', 'all', 'applicant', 'be', 'then', 'immediately', 'notify', 'whether', 'their', 'application', 'have', 'be', 'pass', 'for', 'assessment', 'by', 'an', 'unbiased', 'assessor', 'once', 'the', 'assessment', 'work', 'have', 'be', 'complete', 'each', 'applicant', 'have', 'the', 'opportunity', 'to', 'comment', 'on', 'the', 'part', 'of', 'the', 'assessment', 'that', 'relate', 'to', 'the', 'applicant', 'he', 'herself', 'you', 'can', 'read', 'about', 'the', 'recruitment', 'process', 'at', 'the', 'applicant', 'will', 'be', 'assess', 'accord', 'to', 'the', 'ministerial', 'order', 'no', 'of', 'march', 'on', 'the', 'appointment', 'of', 'academic', 'staff', 'at', 'university', 'the', 'university', 'of', 'copenhagen', 'wish', 'to', 'reflect', 'the', 'diversity', 'of', 'society', 'and', 'encourage', 'all', 'qualified', 'candidate', 'to', 'apply', 'regardless', 'of', 'personal', 'background']]\n"
     ]
    }
   ],
   "source": [
    "nlp  = spacy.load(\"en_core_web_lg\")\n",
    "\n",
    "en_lemmas = [collect_lemmas(post, nlp) for post in en_posts]\n",
    "print(en_lemmas[:2])"
   ]
  },
  {
   "cell_type": "code",
   "execution_count": 13,
   "metadata": {},
   "outputs": [],
   "source": [
    "da_stops = open(\"../stops/da_stops_lemmas.txt\", \"r\")\n",
    "da_stops = da_stops.read().split()\n",
    "\n",
    "en_stops = open(\"../stops/en_stops_lemmas.txt\", \"r\")\n",
    "en_stops = en_stops.read().split()"
   ]
  },
  {
   "cell_type": "code",
   "execution_count": 14,
   "metadata": {},
   "outputs": [],
   "source": [
    "da_lemmas = [rm_stops(post, da_stops) for post in da_lemmas]"
   ]
  },
  {
   "cell_type": "code",
   "execution_count": 15,
   "metadata": {},
   "outputs": [
    {
     "name": "stdout",
     "output_type": "stream",
     "text": [
      "[['danpo', 'give', 'hire', 'production', 'operative', 'join', 'busy', 'team', 'full', 'time', 'go', 'basis', 'work', 'rotating', 'shift', 'offer', 'hour', 'work', 'monday', 'friday', 'saturday', 'dayshift', 'late', 'evening', 'shift', 'immediate', 'start', 'production', 'operative', 'work', 'busy', 'production', 'line', 'operate', 'machinery', 'quality', 'control', 'move', 'good', 'safely', 'factory', 'ready', 'dispatch', 'general', 'tidy', 'ad', 'hoc', 'duty', 'require', 'need', 'previous', 'experience', 'production', 'environment', 'prefer', 'essential', 'full', 'training', 'provide', 'punctuality', 'reliability', 'essential', 'access', 'transport', 'beneficial', 'essential', 'question', 'role', 'contact', 'recruiter', 'claus', 'm', 'dk', 'look', 'forward', 'hear', 'aware', 'need', 'create', 'account', 'online', 'welcome', 'apply', 'use', 'link', 'medarbejderne', 'vikar', 'rekruttering', 'specialist', 'recruitment', 'consultancy', 'year', 'experience', 'deliver', 'staffing', 'solution', 'treat', 'application', 'high', 'degree', 'care', 'due', 'high', 'volume', 'application', 'unable', 'contact', 'individual', 'hear', 'day', 'submit', 'application', 'call', 'status', 'interested', 'plenty', 'attractive', 'job', 'offer', 'hesitate', 'create', 'account', 'medarbejderne', 'aps'], ['look', 'two', 'highly', 'motivate', 'open', 'minded', 'dynamic', 'researcher', 'year', 'phd', 'fellowship', 'year', 'fix', 'term', 'postdoc', 'assistant', 'professor', 'commence', 'september', 'soon', 'part', 'interdisciplinary', 'research', 'group', 'complexity', 'big', 'datum', 'epidemiology', 'aim', 'understanding', 'act', 'complex', 'public', 'health', 'issue', 'explore', 'large', 'national', 'international', 'dataset', 'include', 'nationwide', 'register', 'research', 'offer', 'creative', 'stimulate', 'working', 'environment', 'international', 'interdisciplinary', 'research', 'group', 'health', 'complex', 'phenomenon', 'study', 'social', 'environmental', 'biological', 'factor', 'determine', 'health', 'disease', 'aim', 'elucidate', 'underlying', 'biological', 'social', 'mechanism', 'explain', 'effect', 'embrace', 'complexity', 'health', 'actively', 'explore', 'new', 'source', 'e', 'g', 'smartphone', 'big', 'datum', 'incorporate', 'complexity', 'theory', 'system', 'method', 'leverage', 'insight', 'discipline', 'explore', 'opportunity', 'citizen', 'science', 'aim', 'direct', 'societal', 'engagement', 'impact', 'job', 'involve', 'one', 'large', 'epidemiological', 'research', 'project', 'one', 'large', 'scale', 'registry', 'base', 'study', 'health', 'trajectory', 'childhood', 'adversity', 'labor', 'market', 'marginalization', 'specific', 'focus', 'transition', 'childhood', 'early', 'adulthood', 'cover', 'intergenerational', 'health', 'effect', 'later', 'life', 'health', 'outcome', 'base', 'datum', 'globally', 'unique', 'danlife', 'cohort', 'project', 'involve', 'multi', 'level', 'analysis', 'complex', 'interaction', 'chronic', 'disease', 'labor', 'market', 'attachment', 'large', 'longitudinal', 'hospital', 'employee', 'study', 'project', 'aim', 'integrate', 'new', 'method', 'precision', 'medicine', 'complexity', 'science', 'investigate', 'complex', 'interplay', 'social', 'environmental', 'health', 'factor', 'apply', 'method', 'allow', 'look', 'dynamic', 'interaction', 'several', 'dimension', 'simultaneously', 'work', 'task', 'include', 'datum', 'management', 'large', 'study', 'statistical', 'analysis', 'large', 'complex', 'data', 'material', 'write', 'scientific', 'paper', 'teaching', 'outreach', 'visit', 'complexity', 'big', 'datum', 'epidemiology', 'website', 'detail', 'work', 'work', 'task', 'associate', 'different', 'position', 'differ', 'extent', 'key', 'task', 'position', 'outline', 'key', 'task', 'phd', 'student', 'carry', 'independent', 'research', 'project', 'supervision', 'complete', 'phd', 'course', 'equivalent', 'education', 'correspond', 'ect', 'point', 'participate', 'active', 'research', 'environment', 'include', 'stay', 'research', 'team', 'obtain', 'experience', 'teaching', 'type', 'dissemination', 'relate', 'phd', 'project', 'teach', 'disseminate', 'knowledge', 'write', 'phd', 'thesis', 'ground', 'project', 'key', 'task', 'postdoc', 'assistant', 'professor', 'statistical', 'analysis', 'large', 'complex', 'datum', 'material', 'research', 'include', 'publication', 'academic', 'dissemination', 'duty', 'research', 'base', 'teaching', 'share', 'knowledge', 'society', 'participation', 'formal', 'pedagogical', 'training', 'program', 'assistant', 'professor', 'profile', 'look', 'open', 'minded', 'creative', 'enthusiastic', 'scientist', 'follow', 'competency', 'experience', 'master', 'degree', 'phd', 'degree', 'apply', 'postdoc', 'assistant', 'professorship', 'epidemiology', 'datum', 'science', 'complexity', 'science', 'computational', 'method', 'medicine', 'social', 'science', 'relate', 'science', 'highly', 'experienced', 'work', 'large', 'complex', 'dataset', 'preferable', 'register', 'base', 'study', 'active', 'interest', 'public', 'health', 'epidemiology', 'preferable', 'complexity', 'science', 'proficient', 'communication', 'skill', 'ability', 'work', 'team', 'excellent', 'english', 'skill', 'write', 'speak', 'apply', 'assistant', 'professor', 'position', 'aware', 'six', 'criterion', 'apply', 'assistant', 'professor', 'appointment', 'university', 'copenhagen', 'six', 'criterion', 'research', 'teach', 'societal', 'impact', 'organisational', 'contribution', 'external', 'funding', 'leadership', 'consider', 'framework', 'assessment', 'candidate', 'find', 'information', 'criterion', 'place', 'employment', 'place', 'employment', 'section', 'epidemiology', 'department', 'public', 'health', 'university', 'copenhagen', 'information', 'section', 'epidemiology', 'find', 'term', 'employment', 'employment', 'postdoc', 'assistant', 'professor', 'full', 'time', 'fix', 'term', 'position', 'year', 'start', 'date', 'september', 'soon', 'salary', 'pension', 'condition', 'employment', 'set', 'accordance', 'agreement', 'ministry', 'finance', 'ac', 'danish', 'confederation', 'professional', 'association', 'monthly', 'salary', 'start', 'dkk', 'approx', 'eur', 'april', 'level', 'depend', 'qualification', 'supplement', 'negotiate', 'employer', 'pay', 'additional', 'pension', 'fund', 'danish', 'danish', 'applicant', 'eligible', 'tax', 'reduction', 'hold', 'phd', 'degree', 'live', 'denmark', 'last', 'year', 'position', 'cover', 'job', 'structure', 'academic', 'staff', 'university', 'employment', 'phd', 'student', 'full', 'time', 'fix', 'term', 'position', 'year', 'employment', 'condition', 'applicant', 'success', 'ful', 'enrolment', 'phd', 'student', 'graduate', 'school', 'faculty', 'health', 'medical', 'sciences', 'university', 'copenhagen', 'require', 'submission', 'acceptance', 'application', 'specific', 'project', 'formulate', 'applicant', 'phd', 'study', 'complete', 'accordance', 'ministerial', 'order', 'phd', 'programme', 'faculty', 'rule', 'achieve', 'degree', 'general', 'information', 'phd', 'study', 'faculty', 'health', 'medical', 'science', 'available', 'graduate', 'school', 'website', 'salary', 'pension', 'term', 'employment', 'accordance', 'agree', 'ment', 'ministry', 'finance', 'danish', 'confederation', 'professional', 'association', 'academic', 'state', 'depend', 'seniority', 'monthly', 'salary', 'start', 'dkk', 'roughly', 'eur', 'april', 'level', 'plus', 'pension', 'question', 'further', 'information', 'contact', 'head', 'section', 'professor', 'naja', 'hulvej', 'rod', 'nahuro', 'ku', 'dk', 'foreign', 'applicant', 'find', 'link', 'useful', 'www', 'ism', 'ku', 'dk', 'international', 'staff', 'mobility', 'application', 'procedure', 'online', 'application', 'submit', 'english', 'click', 'apply', 'application', 'include', 'follow', 'document', 'attachment', 'pdf', 'format', 'motivate', 'letter', 'application', 'max', 'two', 'page', 'clearly', 'indicate', 'position', 'apply', 'phd', 'fellow', 'postdoc', 'assistant', 'professor', 'cv', 'incl', 'education', 'work', 'research', 'experience', 'language', 'skill', 'skill', 'relevant', 'position', 'certify', 'sign', 'copy', 'phd', 'certificate', 'postdoc', 'assistant', 'professor', 'b', 'master', 'science', 'certificate', 'apply', 'postdoc', 'position', 'phd', 'complete', 'write', 'statement', 'supervisor', 'phd', 'position', 'certify', 'copy', 'original', 'master', 'science', 'diploma', 'transcript', 'record', 'original', 'language', 'include', 'authorize', 'english', 'translation', 'issue', 'language', 'english', 'danish', 'complete', 'certify', 'sign', 'copy', 'recent', 'transcript', 'record', 'write', 'statement', 'institution', 'supervisor', 'accept', 'prerequisite', 'phd', 'fellowship', 'employment', 'master', 'degree', 'equivalent', 'danish', 'master', 'degree', 'encourage', 'read', 'assessment', 'database', 'note', 'ask', 'obtain', 'assessment', 'education', 'perform', 'ministry', 'high', 'education', 'science', 'list', 'publication', 'application', 'deadline', 'june', 'pm', 'cet', 'reserve', 'right', 'consider', 'material', 'receive', 'deadline', 'consider', 'application', 'live', 'abovementioned', 'requirement', 'further', 'process', 'expiry', 'deadline', 'application', 'authorized', 'recruitment', 'manager', 'select', 'applicant', 'assessment', 'advice', 'hire', 'committee', 'applicant', 'notify', 'application', 'pass', 'assessment', 'unbiased', 'assessor', 'assessment', 'work', 'complete', 'applicant', 'opportunity', 'comment', 'part', 'assessment', 'relate', 'applicant', 'read', 'recruitment', 'process', 'applicant', 'assess', 'accord', 'ministerial', 'order', 'march', 'appointment', 'academic', 'staff', 'university', 'university', 'copenhagen', 'wish', 'reflect', 'diversity', 'society', 'encourage', 'qualified', 'candidate', 'apply', 'regardless', 'personal', 'background']]\n"
     ]
    }
   ],
   "source": [
    "en_lemmas = [rm_stops(post, en_stops) for post in en_lemmas]\n",
    "print(en_lemmas[:2])"
   ]
  }
 ],
 "metadata": {
  "interpreter": {
   "hash": "d6805e15886aab53026236d0c7a2691c0f3a4936a9fa243a37c54dfd5efd3ad7"
  },
  "kernelspec": {
   "display_name": "Python 3.8.10 ('myproject-o7xzvy_i')",
   "language": "python",
   "name": "python3"
  },
  "language_info": {
   "codemirror_mode": {
    "name": "ipython",
    "version": 3
   },
   "file_extension": ".py",
   "mimetype": "text/x-python",
   "name": "python",
   "nbconvert_exporter": "python",
   "pygments_lexer": "ipython3",
   "version": "3.8.10"
  },
  "orig_nbformat": 4
 },
 "nbformat": 4,
 "nbformat_minor": 2
}
