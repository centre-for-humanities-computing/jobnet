{
 "cells": [
  {
   "cell_type": "code",
   "execution_count": 6,
   "metadata": {},
   "outputs": [],
   "source": [
    "from gensim.models import Word2Vec\n",
    "import pandas as pd\n",
    "import sys\n",
    "\n",
    "sys.path.append(\"../../../semantisk-kernel\")\n",
    "from semkern.model import train_model\n",
    "from semkern.graphing import plot\n",
    "import pandas as pd"
   ]
  },
  {
   "cell_type": "code",
   "execution_count": 3,
   "metadata": {},
   "outputs": [],
   "source": [
    "df = pd.read_pickle(\"../../data/pkl/dataset.pkl\")"
   ]
  },
  {
   "cell_type": "code",
   "execution_count": 4,
   "metadata": {},
   "outputs": [],
   "source": [
    "posts = df[\"lemmas\"].to_list()"
   ]
  },
  {
   "cell_type": "code",
   "execution_count": 5,
   "metadata": {},
   "outputs": [],
   "source": [
    "model = train_model(posts)\n",
    "model.save(\"word2vec.model\")\n",
    "model = Word2Vec.load(\"word2vec.model\")"
   ]
  },
  {
   "cell_type": "code",
   "execution_count": 8,
   "metadata": {},
   "outputs": [
    {
     "data": {
      "application/vnd.plotly.v1+json": {
       "config": {
        "plotlyServerURL": "https://plot.ly"
       },
       "data": [
        {
         "hoverinfo": "none",
         "line": {
          "color": "#888",
          "width": 0.5
         },
         "mode": "lines",
         "type": "scatter",
         "x": [
          0.10796513540177738,
          -0.055152606958466244,
          null,
          0.10796513540177738,
          -0.3232636339091117,
          null,
          0.10796513540177738,
          -0.18272166066451073,
          null,
          0.10796513540177738,
          -0.0998261675350971,
          null,
          0.10796513540177738,
          0.1338081300235555,
          null,
          0.6820734688754237,
          0.28844305031765877,
          null,
          -0.055152606958466244,
          -0.2879577128897674,
          null,
          -0.055152606958466244,
          -0.3232636339091117,
          null,
          -0.055152606958466244,
          -0.18272166066451073,
          null,
          -0.055152606958466244,
          -0.0998261675350971,
          null,
          -0.055152606958466244,
          -0.07101545786781902,
          null,
          -0.055152606958466244,
          0.1338081300235555,
          null,
          -0.49386528901797166,
          -0.2879577128897674,
          null,
          -0.49386528901797166,
          -0.3232636339091117,
          null,
          -0.49386528901797166,
          -0.18272166066451073,
          null,
          -0.49386528901797166,
          -0.0998261675350971,
          null,
          -0.2879577128897674,
          -0.3232636339091117,
          null,
          -0.2879577128897674,
          -0.18272166066451073,
          null,
          -0.2879577128897674,
          -0.0998261675350971,
          null,
          0.28844305031765877,
          0.30151274422432855,
          null,
          0.28844305031765877,
          -0.07101545786781902,
          null,
          0.28844305031765877,
          0.1338081300235555,
          null,
          -0.3232636339091117,
          -0.18272166066451073,
          null,
          -0.3232636339091117,
          -0.0998261675350971,
          null,
          -0.3232636339091117,
          -0.07101545786781902,
          null,
          -0.18272166066451073,
          -0.0998261675350971,
          null,
          -0.18272166066451073,
          -0.07101545786781902,
          null,
          -0.18272166066451073,
          0.1338081300235555,
          null,
          -0.0998261675350971,
          0.1338081300235555,
          null,
          -0.07101545786781902,
          0.1338081300235555,
          null
         ],
         "y": [
          -0.3318557656990566,
          -0.17570163027293065,
          null,
          -0.3318557656990566,
          -0.24124610378098837,
          null,
          -0.3318557656990566,
          -0.24157799929760412,
          null,
          -0.3318557656990566,
          -0.43108177139492465,
          null,
          -0.3318557656990566,
          0.0013160758846053639,
          null,
          0.7904160492250365,
          0.530474929927047,
          null,
          -0.17570163027293065,
          -0.5467549360475564,
          null,
          -0.17570163027293065,
          -0.24124610378098837,
          null,
          -0.17570163027293065,
          -0.24157799929760412,
          null,
          -0.17570163027293065,
          -0.43108177139492465,
          null,
          -0.17570163027293065,
          0.14953623402961272,
          null,
          -0.17570163027293065,
          0.0013160758846053639,
          null,
          -0.5035250825732399,
          -0.5467549360475564,
          null,
          -0.5035250825732399,
          -0.24124610378098837,
          null,
          -0.5035250825732399,
          -0.24157799929760412,
          null,
          -0.5035250825732399,
          -0.43108177139492465,
          null,
          -0.5467549360475564,
          -0.24124610378098837,
          null,
          -0.5467549360475564,
          -0.24157799929760412,
          null,
          -0.5467549360475564,
          -0.43108177139492465,
          null,
          0.530474929927047,
          1,
          null,
          0.530474929927047,
          0.14953623402961272,
          null,
          0.530474929927047,
          0.0013160758846053639,
          null,
          -0.24124610378098837,
          -0.24157799929760412,
          null,
          -0.24124610378098837,
          -0.43108177139492465,
          null,
          -0.24124610378098837,
          0.14953623402961272,
          null,
          -0.24157799929760412,
          -0.43108177139492465,
          null,
          -0.24157799929760412,
          0.14953623402961272,
          null,
          -0.24157799929760412,
          0.0013160758846053639,
          null,
          -0.43108177139492465,
          0.0013160758846053639,
          null,
          0.14953623402961272,
          0.0013160758846053639,
          null
         ]
        },
        {
         "customdata": [
          0,
          1,
          2,
          3,
          4,
          5,
          6,
          7,
          8,
          9,
          10,
          11
         ],
         "hoverinfo": "text",
         "marker": {
          "color": [
           0,
           1,
           0,
           0,
           0,
           1,
           0,
           0,
           1,
           0,
           1,
           1
          ],
          "colorscale": [
           [
            0,
            "rgb(252, 222, 156)"
           ],
           [
            0.16666666666666666,
            "rgb(250, 164, 118)"
           ],
           [
            0.3333333333333333,
            "rgb(240, 116, 110)"
           ],
           [
            0.5,
            "rgb(227, 79, 111)"
           ],
           [
            0.6666666666666666,
            "rgb(220, 57, 119)"
           ],
           [
            0.8333333333333334,
            "rgb(185, 37, 122)"
           ],
           [
            1,
            "rgb(124, 29, 111)"
           ]
          ],
          "line": {
           "width": 2
          },
          "reversescale": true,
          "size": [
           83.33333333333334,
           16.666666666666668,
           116.66666666666666,
           66.66666666666667,
           83.33333333333334,
           66.66666666666667,
           116.66666666666666,
           133.33333333333334,
           16.666666666666668,
           116.66666666666666,
           83.33333333333334,
           100
          ]
         },
         "mode": "markers",
         "text": [
          "uddannelsesansvarlige",
          "forskningsgruppe",
          "SPECIALPSYKOLOG",
          "overlæge",
          "cheflæge",
          "SENIORFORSKER",
          "UDDANNELSESANSVARLIG",
          "SPECIALEANSVARLIG",
          "molekylærbiolog",
          "specialeansvarlige",
          "PROFESSOR",
          "FORSKNINGSLEDER"
         ],
         "type": "scatter",
         "x": [
          0.10796513540177738,
          0.6820734688754237,
          -0.055152606958466244,
          -0.49386528901797166,
          -0.2879577128897674,
          0.28844305031765877,
          -0.3232636339091117,
          -0.18272166066451073,
          0.30151274422432855,
          -0.0998261675350971,
          -0.07101545786781902,
          0.1338081300235555
         ],
         "y": [
          -0.3318557656990566,
          0.7904160492250365,
          -0.17570163027293065,
          -0.5035250825732399,
          -0.5467549360475564,
          0.530474929927047,
          -0.24124610378098837,
          -0.24157799929760412,
          1,
          -0.43108177139492465,
          0.14953623402961272,
          0.0013160758846053639
         ]
        }
       ],
       "layout": {
        "annotations": [
         {
          "bgcolor": "rgba(255,255,255,0.5)",
          "bordercolor": "rgba(0,0,0,0.5)",
          "font": {
           "color": "black",
           "family": "Helvetica",
           "size": 10
          },
          "showarrow": false,
          "text": "uddannelsesansvarlige",
          "x": 0.10796513540177738,
          "xanchor": "center",
          "y": -0.3318557656990566
         },
         {
          "bgcolor": "rgba(255,255,255,0.5)",
          "bordercolor": "rgba(0,0,0,0.5)",
          "font": {
           "color": "black",
           "family": "Helvetica",
           "size": 10
          },
          "showarrow": false,
          "text": "forskningsgruppe",
          "x": 0.6820734688754237,
          "xanchor": "center",
          "y": 0.7904160492250365
         },
         {
          "bgcolor": "rgba(255,255,255,0.5)",
          "bordercolor": "rgba(0,0,0,0.5)",
          "font": {
           "color": "black",
           "family": "Helvetica",
           "size": 11.666666666666666
          },
          "showarrow": false,
          "text": "SPECIALPSYKOLOG",
          "x": -0.055152606958466244,
          "xanchor": "center",
          "y": -0.17570163027293065
         },
         {
          "bgcolor": "rgba(255,255,255,0.5)",
          "bordercolor": "rgba(0,0,0,0.5)",
          "font": {
           "color": "black",
           "family": "Helvetica",
           "size": 10
          },
          "showarrow": false,
          "text": "overlæge",
          "x": -0.49386528901797166,
          "xanchor": "center",
          "y": -0.5035250825732399
         },
         {
          "bgcolor": "rgba(255,255,255,0.5)",
          "bordercolor": "rgba(0,0,0,0.5)",
          "font": {
           "color": "black",
           "family": "Helvetica",
           "size": 10
          },
          "showarrow": false,
          "text": "cheflæge",
          "x": -0.2879577128897674,
          "xanchor": "center",
          "y": -0.5467549360475564
         },
         {
          "bgcolor": "rgba(255,255,255,0.5)",
          "bordercolor": "rgba(0,0,0,0.5)",
          "font": {
           "color": "black",
           "family": "Helvetica",
           "size": 10
          },
          "showarrow": false,
          "text": "SENIORFORSKER",
          "x": 0.28844305031765877,
          "xanchor": "center",
          "y": 0.530474929927047
         },
         {
          "bgcolor": "rgba(255,255,255,0.5)",
          "bordercolor": "rgba(0,0,0,0.5)",
          "font": {
           "color": "black",
           "family": "Helvetica",
           "size": 11.666666666666666
          },
          "showarrow": false,
          "text": "UDDANNELSESANSVARLIG",
          "x": -0.3232636339091117,
          "xanchor": "center",
          "y": -0.24124610378098837
         },
         {
          "bgcolor": "rgba(255,255,255,0.5)",
          "bordercolor": "rgba(0,0,0,0.5)",
          "font": {
           "color": "black",
           "family": "Helvetica",
           "size": 13.333333333333334
          },
          "showarrow": false,
          "text": "SPECIALEANSVARLIG",
          "x": -0.18272166066451073,
          "xanchor": "center",
          "y": -0.24157799929760412
         },
         {
          "bgcolor": "rgba(255,255,255,0.5)",
          "bordercolor": "rgba(0,0,0,0.5)",
          "font": {
           "color": "black",
           "family": "Helvetica",
           "size": 10
          },
          "showarrow": false,
          "text": "molekylærbiolog",
          "x": 0.30151274422432855,
          "xanchor": "center",
          "y": 1
         },
         {
          "bgcolor": "rgba(255,255,255,0.5)",
          "bordercolor": "rgba(0,0,0,0.5)",
          "font": {
           "color": "black",
           "family": "Helvetica",
           "size": 11.666666666666666
          },
          "showarrow": false,
          "text": "specialeansvarlige",
          "x": -0.0998261675350971,
          "xanchor": "center",
          "y": -0.43108177139492465
         },
         {
          "bgcolor": "rgba(255,255,255,0.5)",
          "bordercolor": "rgba(0,0,0,0.5)",
          "font": {
           "color": "black",
           "family": "Helvetica",
           "size": 10
          },
          "showarrow": false,
          "text": "PROFESSOR",
          "x": -0.07101545786781902,
          "xanchor": "center",
          "y": 0.14953623402961272
         },
         {
          "bgcolor": "rgba(255,255,255,0.5)",
          "bordercolor": "rgba(0,0,0,0.5)",
          "font": {
           "color": "black",
           "family": "Helvetica",
           "size": 10
          },
          "showarrow": false,
          "text": "FORSKNINGSLEDER",
          "x": 0.1338081300235555,
          "xanchor": "center",
          "y": 0.0013160758846053639
         }
        ],
        "clickmode": "event",
        "margin": {
         "b": 20,
         "l": 5,
         "r": 5,
         "t": 40
        },
        "paper_bgcolor": "rgba(0,0,0,0)",
        "plot_bgcolor": "rgba(0,0,0,0)",
        "showlegend": false,
        "template": {
         "data": {
          "bar": [
           {
            "error_x": {
             "color": "#2a3f5f"
            },
            "error_y": {
             "color": "#2a3f5f"
            },
            "marker": {
             "line": {
              "color": "#E5ECF6",
              "width": 0.5
             },
             "pattern": {
              "fillmode": "overlay",
              "size": 10,
              "solidity": 0.2
             }
            },
            "type": "bar"
           }
          ],
          "barpolar": [
           {
            "marker": {
             "line": {
              "color": "#E5ECF6",
              "width": 0.5
             },
             "pattern": {
              "fillmode": "overlay",
              "size": 10,
              "solidity": 0.2
             }
            },
            "type": "barpolar"
           }
          ],
          "carpet": [
           {
            "aaxis": {
             "endlinecolor": "#2a3f5f",
             "gridcolor": "white",
             "linecolor": "white",
             "minorgridcolor": "white",
             "startlinecolor": "#2a3f5f"
            },
            "baxis": {
             "endlinecolor": "#2a3f5f",
             "gridcolor": "white",
             "linecolor": "white",
             "minorgridcolor": "white",
             "startlinecolor": "#2a3f5f"
            },
            "type": "carpet"
           }
          ],
          "choropleth": [
           {
            "colorbar": {
             "outlinewidth": 0,
             "ticks": ""
            },
            "type": "choropleth"
           }
          ],
          "contour": [
           {
            "colorbar": {
             "outlinewidth": 0,
             "ticks": ""
            },
            "colorscale": [
             [
              0,
              "#0d0887"
             ],
             [
              0.1111111111111111,
              "#46039f"
             ],
             [
              0.2222222222222222,
              "#7201a8"
             ],
             [
              0.3333333333333333,
              "#9c179e"
             ],
             [
              0.4444444444444444,
              "#bd3786"
             ],
             [
              0.5555555555555556,
              "#d8576b"
             ],
             [
              0.6666666666666666,
              "#ed7953"
             ],
             [
              0.7777777777777778,
              "#fb9f3a"
             ],
             [
              0.8888888888888888,
              "#fdca26"
             ],
             [
              1,
              "#f0f921"
             ]
            ],
            "type": "contour"
           }
          ],
          "contourcarpet": [
           {
            "colorbar": {
             "outlinewidth": 0,
             "ticks": ""
            },
            "type": "contourcarpet"
           }
          ],
          "heatmap": [
           {
            "colorbar": {
             "outlinewidth": 0,
             "ticks": ""
            },
            "colorscale": [
             [
              0,
              "#0d0887"
             ],
             [
              0.1111111111111111,
              "#46039f"
             ],
             [
              0.2222222222222222,
              "#7201a8"
             ],
             [
              0.3333333333333333,
              "#9c179e"
             ],
             [
              0.4444444444444444,
              "#bd3786"
             ],
             [
              0.5555555555555556,
              "#d8576b"
             ],
             [
              0.6666666666666666,
              "#ed7953"
             ],
             [
              0.7777777777777778,
              "#fb9f3a"
             ],
             [
              0.8888888888888888,
              "#fdca26"
             ],
             [
              1,
              "#f0f921"
             ]
            ],
            "type": "heatmap"
           }
          ],
          "heatmapgl": [
           {
            "colorbar": {
             "outlinewidth": 0,
             "ticks": ""
            },
            "colorscale": [
             [
              0,
              "#0d0887"
             ],
             [
              0.1111111111111111,
              "#46039f"
             ],
             [
              0.2222222222222222,
              "#7201a8"
             ],
             [
              0.3333333333333333,
              "#9c179e"
             ],
             [
              0.4444444444444444,
              "#bd3786"
             ],
             [
              0.5555555555555556,
              "#d8576b"
             ],
             [
              0.6666666666666666,
              "#ed7953"
             ],
             [
              0.7777777777777778,
              "#fb9f3a"
             ],
             [
              0.8888888888888888,
              "#fdca26"
             ],
             [
              1,
              "#f0f921"
             ]
            ],
            "type": "heatmapgl"
           }
          ],
          "histogram": [
           {
            "marker": {
             "pattern": {
              "fillmode": "overlay",
              "size": 10,
              "solidity": 0.2
             }
            },
            "type": "histogram"
           }
          ],
          "histogram2d": [
           {
            "colorbar": {
             "outlinewidth": 0,
             "ticks": ""
            },
            "colorscale": [
             [
              0,
              "#0d0887"
             ],
             [
              0.1111111111111111,
              "#46039f"
             ],
             [
              0.2222222222222222,
              "#7201a8"
             ],
             [
              0.3333333333333333,
              "#9c179e"
             ],
             [
              0.4444444444444444,
              "#bd3786"
             ],
             [
              0.5555555555555556,
              "#d8576b"
             ],
             [
              0.6666666666666666,
              "#ed7953"
             ],
             [
              0.7777777777777778,
              "#fb9f3a"
             ],
             [
              0.8888888888888888,
              "#fdca26"
             ],
             [
              1,
              "#f0f921"
             ]
            ],
            "type": "histogram2d"
           }
          ],
          "histogram2dcontour": [
           {
            "colorbar": {
             "outlinewidth": 0,
             "ticks": ""
            },
            "colorscale": [
             [
              0,
              "#0d0887"
             ],
             [
              0.1111111111111111,
              "#46039f"
             ],
             [
              0.2222222222222222,
              "#7201a8"
             ],
             [
              0.3333333333333333,
              "#9c179e"
             ],
             [
              0.4444444444444444,
              "#bd3786"
             ],
             [
              0.5555555555555556,
              "#d8576b"
             ],
             [
              0.6666666666666666,
              "#ed7953"
             ],
             [
              0.7777777777777778,
              "#fb9f3a"
             ],
             [
              0.8888888888888888,
              "#fdca26"
             ],
             [
              1,
              "#f0f921"
             ]
            ],
            "type": "histogram2dcontour"
           }
          ],
          "mesh3d": [
           {
            "colorbar": {
             "outlinewidth": 0,
             "ticks": ""
            },
            "type": "mesh3d"
           }
          ],
          "parcoords": [
           {
            "line": {
             "colorbar": {
              "outlinewidth": 0,
              "ticks": ""
             }
            },
            "type": "parcoords"
           }
          ],
          "pie": [
           {
            "automargin": true,
            "type": "pie"
           }
          ],
          "scatter": [
           {
            "marker": {
             "colorbar": {
              "outlinewidth": 0,
              "ticks": ""
             }
            },
            "type": "scatter"
           }
          ],
          "scatter3d": [
           {
            "line": {
             "colorbar": {
              "outlinewidth": 0,
              "ticks": ""
             }
            },
            "marker": {
             "colorbar": {
              "outlinewidth": 0,
              "ticks": ""
             }
            },
            "type": "scatter3d"
           }
          ],
          "scattercarpet": [
           {
            "marker": {
             "colorbar": {
              "outlinewidth": 0,
              "ticks": ""
             }
            },
            "type": "scattercarpet"
           }
          ],
          "scattergeo": [
           {
            "marker": {
             "colorbar": {
              "outlinewidth": 0,
              "ticks": ""
             }
            },
            "type": "scattergeo"
           }
          ],
          "scattergl": [
           {
            "marker": {
             "colorbar": {
              "outlinewidth": 0,
              "ticks": ""
             }
            },
            "type": "scattergl"
           }
          ],
          "scattermapbox": [
           {
            "marker": {
             "colorbar": {
              "outlinewidth": 0,
              "ticks": ""
             }
            },
            "type": "scattermapbox"
           }
          ],
          "scatterpolar": [
           {
            "marker": {
             "colorbar": {
              "outlinewidth": 0,
              "ticks": ""
             }
            },
            "type": "scatterpolar"
           }
          ],
          "scatterpolargl": [
           {
            "marker": {
             "colorbar": {
              "outlinewidth": 0,
              "ticks": ""
             }
            },
            "type": "scatterpolargl"
           }
          ],
          "scatterternary": [
           {
            "marker": {
             "colorbar": {
              "outlinewidth": 0,
              "ticks": ""
             }
            },
            "type": "scatterternary"
           }
          ],
          "surface": [
           {
            "colorbar": {
             "outlinewidth": 0,
             "ticks": ""
            },
            "colorscale": [
             [
              0,
              "#0d0887"
             ],
             [
              0.1111111111111111,
              "#46039f"
             ],
             [
              0.2222222222222222,
              "#7201a8"
             ],
             [
              0.3333333333333333,
              "#9c179e"
             ],
             [
              0.4444444444444444,
              "#bd3786"
             ],
             [
              0.5555555555555556,
              "#d8576b"
             ],
             [
              0.6666666666666666,
              "#ed7953"
             ],
             [
              0.7777777777777778,
              "#fb9f3a"
             ],
             [
              0.8888888888888888,
              "#fdca26"
             ],
             [
              1,
              "#f0f921"
             ]
            ],
            "type": "surface"
           }
          ],
          "table": [
           {
            "cells": {
             "fill": {
              "color": "#EBF0F8"
             },
             "line": {
              "color": "white"
             }
            },
            "header": {
             "fill": {
              "color": "#C8D4E3"
             },
             "line": {
              "color": "white"
             }
            },
            "type": "table"
           }
          ]
         },
         "layout": {
          "annotationdefaults": {
           "arrowcolor": "#2a3f5f",
           "arrowhead": 0,
           "arrowwidth": 1
          },
          "autotypenumbers": "strict",
          "coloraxis": {
           "colorbar": {
            "outlinewidth": 0,
            "ticks": ""
           }
          },
          "colorscale": {
           "diverging": [
            [
             0,
             "#8e0152"
            ],
            [
             0.1,
             "#c51b7d"
            ],
            [
             0.2,
             "#de77ae"
            ],
            [
             0.3,
             "#f1b6da"
            ],
            [
             0.4,
             "#fde0ef"
            ],
            [
             0.5,
             "#f7f7f7"
            ],
            [
             0.6,
             "#e6f5d0"
            ],
            [
             0.7,
             "#b8e186"
            ],
            [
             0.8,
             "#7fbc41"
            ],
            [
             0.9,
             "#4d9221"
            ],
            [
             1,
             "#276419"
            ]
           ],
           "sequential": [
            [
             0,
             "#0d0887"
            ],
            [
             0.1111111111111111,
             "#46039f"
            ],
            [
             0.2222222222222222,
             "#7201a8"
            ],
            [
             0.3333333333333333,
             "#9c179e"
            ],
            [
             0.4444444444444444,
             "#bd3786"
            ],
            [
             0.5555555555555556,
             "#d8576b"
            ],
            [
             0.6666666666666666,
             "#ed7953"
            ],
            [
             0.7777777777777778,
             "#fb9f3a"
            ],
            [
             0.8888888888888888,
             "#fdca26"
            ],
            [
             1,
             "#f0f921"
            ]
           ],
           "sequentialminus": [
            [
             0,
             "#0d0887"
            ],
            [
             0.1111111111111111,
             "#46039f"
            ],
            [
             0.2222222222222222,
             "#7201a8"
            ],
            [
             0.3333333333333333,
             "#9c179e"
            ],
            [
             0.4444444444444444,
             "#bd3786"
            ],
            [
             0.5555555555555556,
             "#d8576b"
            ],
            [
             0.6666666666666666,
             "#ed7953"
            ],
            [
             0.7777777777777778,
             "#fb9f3a"
            ],
            [
             0.8888888888888888,
             "#fdca26"
            ],
            [
             1,
             "#f0f921"
            ]
           ]
          },
          "colorway": [
           "#636efa",
           "#EF553B",
           "#00cc96",
           "#ab63fa",
           "#FFA15A",
           "#19d3f3",
           "#FF6692",
           "#B6E880",
           "#FF97FF",
           "#FECB52"
          ],
          "font": {
           "color": "#2a3f5f"
          },
          "geo": {
           "bgcolor": "white",
           "lakecolor": "white",
           "landcolor": "#E5ECF6",
           "showlakes": true,
           "showland": true,
           "subunitcolor": "white"
          },
          "hoverlabel": {
           "align": "left"
          },
          "hovermode": "closest",
          "mapbox": {
           "style": "light"
          },
          "paper_bgcolor": "white",
          "plot_bgcolor": "#E5ECF6",
          "polar": {
           "angularaxis": {
            "gridcolor": "white",
            "linecolor": "white",
            "ticks": ""
           },
           "bgcolor": "#E5ECF6",
           "radialaxis": {
            "gridcolor": "white",
            "linecolor": "white",
            "ticks": ""
           }
          },
          "scene": {
           "xaxis": {
            "backgroundcolor": "#E5ECF6",
            "gridcolor": "white",
            "gridwidth": 2,
            "linecolor": "white",
            "showbackground": true,
            "ticks": "",
            "zerolinecolor": "white"
           },
           "yaxis": {
            "backgroundcolor": "#E5ECF6",
            "gridcolor": "white",
            "gridwidth": 2,
            "linecolor": "white",
            "showbackground": true,
            "ticks": "",
            "zerolinecolor": "white"
           },
           "zaxis": {
            "backgroundcolor": "#E5ECF6",
            "gridcolor": "white",
            "gridwidth": 2,
            "linecolor": "white",
            "showbackground": true,
            "ticks": "",
            "zerolinecolor": "white"
           }
          },
          "shapedefaults": {
           "line": {
            "color": "#2a3f5f"
           }
          },
          "ternary": {
           "aaxis": {
            "gridcolor": "white",
            "linecolor": "white",
            "ticks": ""
           },
           "baxis": {
            "gridcolor": "white",
            "linecolor": "white",
            "ticks": ""
           },
           "bgcolor": "#E5ECF6",
           "caxis": {
            "gridcolor": "white",
            "linecolor": "white",
            "ticks": ""
           }
          },
          "title": {
           "x": 0.05
          },
          "xaxis": {
           "automargin": true,
           "gridcolor": "white",
           "linecolor": "white",
           "ticks": "",
           "title": {
            "standoff": 15
           },
           "zerolinecolor": "white",
           "zerolinewidth": 2
          },
          "yaxis": {
           "automargin": true,
           "gridcolor": "white",
           "linecolor": "white",
           "ticks": "",
           "title": {
            "standoff": 15
           },
           "zerolinecolor": "white",
           "zerolinewidth": 2
          }
         }
        },
        "title": {
         "font": {
          "size": 16
         }
        },
        "xaxis": {
         "showgrid": false,
         "showticklabels": false,
         "zeroline": false
        },
        "yaxis": {
         "showgrid": false,
         "showticklabels": false,
         "zeroline": false
        }
       }
      }
     },
     "metadata": {},
     "output_type": "display_data"
    }
   ],
   "source": [
    "seeds = [\"professor\"]\n",
    "\n",
    "k = 5\n",
    "m = 3\n",
    "\n",
    "fig = plot(seeds, k, m, model)\n",
    "fig.show()\n",
    "fig.write_image(\"../../figs/w2v/professor.pdf\")"
   ]
  }
 ],
 "metadata": {
  "interpreter": {
   "hash": "d6805e15886aab53026236d0c7a2691c0f3a4936a9fa243a37c54dfd5efd3ad7"
  },
  "kernelspec": {
   "display_name": "Python 3.8.10 ('myproject-o7xzvy_i')",
   "language": "python",
   "name": "python3"
  },
  "language_info": {
   "codemirror_mode": {
    "name": "ipython",
    "version": 3
   },
   "file_extension": ".py",
   "mimetype": "text/x-python",
   "name": "python",
   "nbconvert_exporter": "python",
   "pygments_lexer": "ipython3",
   "version": "3.8.10"
  },
  "orig_nbformat": 4
 },
 "nbformat": 4,
 "nbformat_minor": 2
}
